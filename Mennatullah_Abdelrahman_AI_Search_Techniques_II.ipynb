{
  "nbformat": 4,
  "nbformat_minor": 0,
  "metadata": {
    "colab": {
      "name": "Mennatullah Abdelrahman - AI_Search_Techniques_II.ipynb",
      "provenance": [],
      "collapsed_sections": [],
      "include_colab_link": true
    },
    "kernelspec": {
      "name": "python3",
      "display_name": "Python 3"
    },
    "language_info": {
      "name": "python"
    }
  },
  "cells": [
    {
      "cell_type": "markdown",
      "metadata": {
        "id": "view-in-github",
        "colab_type": "text"
      },
      "source": [
        "<a href=\"https://colab.research.google.com/github/MennaEwas/AI/blob/main/Mennatullah_Abdelrahman_AI_Search_Techniques_II.ipynb\" target=\"_parent\"><img src=\"https://colab.research.google.com/assets/colab-badge.svg\" alt=\"Open In Colab\"/></a>"
      ]
    },
    {
      "cell_type": "markdown",
      "metadata": {
        "id": "tblDbZPBIs43"
      },
      "source": [
        "## AI Classical Search Techniques II"
      ]
    },
    {
      "cell_type": "markdown",
      "metadata": {
        "id": "qzr0tfzYEU2L"
      },
      "source": [
        "### Traveling Salesman Problem (TSP)\n",
        "Given a set of cities and distances between each pair of cities, the Traveling Salesman Problem is to find the shortest possible route that visits each city precisely once before returning to the starting point (a.k.a Least-weight Hamiltonian Cycle). Now generate a complete graph for less than 10 nodes (a complete graph includes for sure Hamiltonian cycle(s)) and find the target route using **Hill Climbing** and **Uniform Cost** Search Techniques. "
      ]
    },
    {
      "cell_type": "code",
      "metadata": {
        "id": "tFuy5fcKESkY"
      },
      "source": [
        "import random\n",
        "random.seed(123)\n",
        "\n",
        "class Graph():\n",
        "    def __init__(self, vertices):\n",
        "        self.V = vertices\n",
        "        self.graph = [[0 for column in range(vertices)]\n",
        "                    for row in range(vertices)]\n",
        "    \n",
        "    def add_weighted_edge(self, u, v, w): #undirected and edged graph\n",
        "        self.graph[u][v], self.graph[v][u] = w, w\n",
        "\n",
        "    def random_complete_graph(self): #create the edges \n",
        "        for i in range(self.V):\n",
        "            for j in range(i, self.V):\n",
        "                if i != j:\n",
        "                    self.add_weighted_edge(i, j, random.randint(1, 10))\n",
        "    #Just printing \n",
        "    def print_adj_matrix(self):\n",
        "        for i in range(self.V):\n",
        "            for j in range(self.V):\n",
        "                print(self.graph[i][j], end=' ')\n",
        "            print()\n",
        "\n",
        "\n"
      ],
      "execution_count": null,
      "outputs": []
    },
    {
      "cell_type": "code",
      "metadata": {
        "id": "qdOa7Msdgbvo"
      },
      "source": [
        "from heapq import heappush, heappop\n",
        "\n",
        "class PriorityQueue():\n",
        "    def __init__(self):\n",
        "        self._container = []\n",
        "\n",
        "    @property\n",
        "    def empty(self) -> bool:\n",
        "        return not self._container\n",
        "\n",
        "    def push(self, item):\n",
        "        heappush(self._container, item)\n",
        "\n",
        "    def pop(self):\n",
        "        return heappop(self._container)\n",
        "\n",
        "    def __repr__(self):\n",
        "        return repr(self._container)\n",
        "    def __str__(self):\n",
        "        return str(self._container)\n",
        "\n",
        "\n",
        "class Node():\n",
        "    def __init__(self, state, parent, cost=0.0, heuristic=0.0):\n",
        "        self.state = state\n",
        "        self.parent = parent\n",
        "        self.cost = cost\n",
        "        self.heuristic = heuristic\n",
        "    def __str__(self):\n",
        "        return str(self.state)\n",
        "    def __repr__(self):\n",
        "        return str(self.state)\n",
        "    def __lt__(self, other):\n",
        "        return (self.cost + self.heuristic) < (other.cost + other.heuristic)\n",
        "\n",
        "def uniform_cost_search(graph, start):\n",
        "    o = PriorityQueue()\n",
        "    s = Node(start,[],0)\n",
        "    o.push(s)\n",
        "    while not o.empty:\n",
        "        current = o.pop()\n",
        "        #print(current.parent)\n",
        "        if len(current.parent) == len(graph)-1:\n",
        "            final_cost = current.cost + graph[start][current.state]\n",
        "            s = Node(start, current.parent + [current.state], final_cost)\n",
        "            o.push(s)\n",
        "            continue\n",
        "        #print(current.parent)\n",
        "\n",
        "        if len(current.parent) == len(graph):\n",
        "            return current.parent + [current], current.cost\n",
        "        \n",
        "        for i in range(len(graph)):\n",
        "            if i in current.parent or i == current.state:\n",
        "                continue\n",
        "            \n",
        "            child = Node(i, current.parent + [current.state], current.cost + graph[i][current.state])\n",
        "            o.push(child)\n",
        "\n",
        "\n",
        "def hill_climbing(graph, start):\n",
        "    solution = []\n",
        "    solution.append(start)\n",
        "    cost = 0 \n",
        "    n = 5\n",
        "    e = solution[-1]\n",
        "    \n",
        "    while len(solution) != len(graph):\n",
        "        minm = [None, 10e6]\n",
        "        for j in range(n): #rows \n",
        "                if j in solution:\n",
        "                    continue\n",
        "                \n",
        "                if graph[e][j] < minm[1]: \n",
        "                    minm[0] = j\n",
        "                    minm[1] = graph[e][j] \n",
        "        solution.append(minm[0])\n",
        "        cost += minm[1]\n",
        "        e = solution[-1]\n",
        "    cost+=graph[e][start]\n",
        "    solution.append(start)\n",
        "    \n",
        "    return solution, cost"
      ],
      "execution_count": null,
      "outputs": []
    },
    {
      "cell_type": "code",
      "metadata": {
        "colab": {
          "base_uri": "https://localhost:8080/"
        },
        "id": "-JSGn2dr2l8N",
        "outputId": "3ec9c51c-680b-465f-8bf0-89f559916680"
      },
      "source": [
        "g = Graph(5)\n",
        "start = 0\n",
        "g.random_complete_graph()\n",
        "g.print_adj_matrix()\n",
        "print('Hill Climbing', str(hill_climbing(g.graph, start))) \n",
        "print('uniform cost search', str(uniform_cost_search(g.graph, start)))"
      ],
      "execution_count": null,
      "outputs": [
        {
          "output_type": "stream",
          "name": "stdout",
          "text": [
            "0 1 5 2 7 \n",
            "1 0 5 2 1 \n",
            "5 5 0 7 9 \n",
            "2 2 7 0 9 \n",
            "7 1 9 9 0 \n",
            "Hill Climbing ([0, 1, 4, 2, 3, 0], 20)\n",
            "uniform cost search ([0, 2, 4, 1, 3, 0], 19)\n"
          ]
        }
      ]
    }
  ]
}